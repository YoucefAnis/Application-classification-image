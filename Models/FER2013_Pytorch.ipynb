{
  "nbformat": 4,
  "nbformat_minor": 0,
  "metadata": {
    "colab": {
      "provenance": []
    },
    "kernelspec": {
      "name": "python3",
      "display_name": "Python 3"
    },
    "language_info": {
      "name": "python"
    },
    "accelerator": "GPU",
    "gpuClass": "standard"
  },
  "cells": [
    {
      "cell_type": "code",
      "source": [
        "import tensorflow as tf\n",
        "import pandas\n",
        "import seaborn as sns\n",
        "import matplotlib.pyplot as plt\n",
        "from math import sqrt\n",
        "import numpy as np\n",
        "from keras.utils import np_utils\n",
        "import torch\n",
        "import torch.nn as nn\n",
        "import torchvision\n",
        "import torch\n",
        "from torchsummary import summary\n",
        "device = torch.device('cuda' if torch.cuda.is_available() else 'cpu')\n",
        "device"
      ],
      "metadata": {
        "colab": {
          "base_uri": "https://localhost:8080/"
        },
        "id": "lKJejjgha3go",
        "outputId": "83a30bc6-e90b-4075-90b6-3e1a63957ed5"
      },
      "execution_count": null,
      "outputs": [
        {
          "output_type": "execute_result",
          "data": {
            "text/plain": [
              "device(type='cuda')"
            ]
          },
          "metadata": {},
          "execution_count": 1
        }
      ]
    },
    {
      "cell_type": "code",
      "source": [
        "#Installation package Kaggle\n",
        "! pip install -q kaggle"
      ],
      "metadata": {
        "id": "KaefENLAaf56"
      },
      "execution_count": null,
      "outputs": []
    },
    {
      "cell_type": "code",
      "source": [
        "# Création d'un fichier Kaggle\n",
        "!mkdir ~/.kaggle/"
      ],
      "metadata": {
        "id": "UKDcs-HlalLX"
      },
      "execution_count": null,
      "outputs": []
    },
    {
      "cell_type": "code",
      "source": [
        "# Copier Kaggle.json dans le dossier Kaggle crée avant\n",
        "! cp '/content/drive/MyDrive/Kaggle/kaggle.json' ~/.kaggle/"
      ],
      "metadata": {
        "id": "MK7kS1dBamAS"
      },
      "execution_count": null,
      "outputs": []
    },
    {
      "cell_type": "code",
      "source": [
        "# Donner les drtoits à Kaggle.json\n",
        "! chmod 600 ~/.kaggle/kaggle.json"
      ],
      "metadata": {
        "id": "Fk-u-vabaocE"
      },
      "execution_count": null,
      "outputs": []
    },
    {
      "cell_type": "code",
      "source": [
        "#download dataset\n",
        "! kaggle datasets download -d deadskull7/fer2013"
      ],
      "metadata": {
        "colab": {
          "base_uri": "https://localhost:8080/"
        },
        "id": "83YOcJK3au55",
        "outputId": "8841117a-66b2-4f52-d943-3d54639160c2"
      },
      "execution_count": null,
      "outputs": [
        {
          "output_type": "stream",
          "name": "stdout",
          "text": [
            "Downloading fer2013.zip to /content\n",
            " 98% 95.0M/96.6M [00:02<00:00, 43.5MB/s]\n",
            "100% 96.6M/96.6M [00:02<00:00, 34.2MB/s]\n"
          ]
        }
      ]
    },
    {
      "cell_type": "code",
      "source": [
        "# Unzip dataset\n",
        "! unzip /content/fer2013.zip"
      ],
      "metadata": {
        "colab": {
          "base_uri": "https://localhost:8080/"
        },
        "id": "AIJmJhwravyv",
        "outputId": "10ce782b-7218-4e09-8692-ac158e4f1202"
      },
      "execution_count": null,
      "outputs": [
        {
          "output_type": "stream",
          "name": "stdout",
          "text": [
            "Archive:  /content/fer2013.zip\n",
            "  inflating: fer2013.csv             \n"
          ]
        }
      ]
    },
    {
      "cell_type": "code",
      "source": [
        "print('Tensorflow version: {}'.format(tf.__version__) )"
      ],
      "metadata": {
        "colab": {
          "base_uri": "https://localhost:8080/"
        },
        "id": "bIzrV0SWazoT",
        "outputId": "015471ea-049d-4889-b8f1-3eb9dffcb984"
      },
      "execution_count": null,
      "outputs": [
        {
          "output_type": "stream",
          "name": "stdout",
          "text": [
            "Tensorflow version: 2.11.0\n"
          ]
        }
      ]
    },
    {
      "cell_type": "code",
      "source": [
        "# Data sampling and pre-processing\n",
        "# Show fer2013.csv\n",
        "data = pandas.read_csv(\"fer2013.csv\")\n",
        "data.head()"
      ],
      "metadata": {
        "colab": {
          "base_uri": "https://localhost:8080/",
          "height": 206
        },
        "id": "v-ES1g_Fa5Qn",
        "outputId": "359c3c99-af3c-4b0b-8f17-a11b4e33722d"
      },
      "execution_count": null,
      "outputs": [
        {
          "output_type": "execute_result",
          "data": {
            "text/plain": [
              "   emotion                                             pixels     Usage\n",
              "0        0  70 80 82 72 58 58 60 63 54 58 60 48 89 115 121...  Training\n",
              "1        0  151 150 147 155 148 133 111 140 170 174 182 15...  Training\n",
              "2        2  231 212 156 164 174 138 161 173 182 200 106 38...  Training\n",
              "3        4  24 32 36 30 32 23 19 20 30 41 21 22 32 34 21 1...  Training\n",
              "4        6  4 0 0 0 0 0 0 0 0 0 0 0 3 15 23 28 48 50 58 84...  Training"
            ],
            "text/html": [
              "\n",
              "  <div id=\"df-61bf6b17-a3e2-469b-a8df-c1b39a55ddec\">\n",
              "    <div class=\"colab-df-container\">\n",
              "      <div>\n",
              "<style scoped>\n",
              "    .dataframe tbody tr th:only-of-type {\n",
              "        vertical-align: middle;\n",
              "    }\n",
              "\n",
              "    .dataframe tbody tr th {\n",
              "        vertical-align: top;\n",
              "    }\n",
              "\n",
              "    .dataframe thead th {\n",
              "        text-align: right;\n",
              "    }\n",
              "</style>\n",
              "<table border=\"1\" class=\"dataframe\">\n",
              "  <thead>\n",
              "    <tr style=\"text-align: right;\">\n",
              "      <th></th>\n",
              "      <th>emotion</th>\n",
              "      <th>pixels</th>\n",
              "      <th>Usage</th>\n",
              "    </tr>\n",
              "  </thead>\n",
              "  <tbody>\n",
              "    <tr>\n",
              "      <th>0</th>\n",
              "      <td>0</td>\n",
              "      <td>70 80 82 72 58 58 60 63 54 58 60 48 89 115 121...</td>\n",
              "      <td>Training</td>\n",
              "    </tr>\n",
              "    <tr>\n",
              "      <th>1</th>\n",
              "      <td>0</td>\n",
              "      <td>151 150 147 155 148 133 111 140 170 174 182 15...</td>\n",
              "      <td>Training</td>\n",
              "    </tr>\n",
              "    <tr>\n",
              "      <th>2</th>\n",
              "      <td>2</td>\n",
              "      <td>231 212 156 164 174 138 161 173 182 200 106 38...</td>\n",
              "      <td>Training</td>\n",
              "    </tr>\n",
              "    <tr>\n",
              "      <th>3</th>\n",
              "      <td>4</td>\n",
              "      <td>24 32 36 30 32 23 19 20 30 41 21 22 32 34 21 1...</td>\n",
              "      <td>Training</td>\n",
              "    </tr>\n",
              "    <tr>\n",
              "      <th>4</th>\n",
              "      <td>6</td>\n",
              "      <td>4 0 0 0 0 0 0 0 0 0 0 0 3 15 23 28 48 50 58 84...</td>\n",
              "      <td>Training</td>\n",
              "    </tr>\n",
              "  </tbody>\n",
              "</table>\n",
              "</div>\n",
              "      <button class=\"colab-df-convert\" onclick=\"convertToInteractive('df-61bf6b17-a3e2-469b-a8df-c1b39a55ddec')\"\n",
              "              title=\"Convert this dataframe to an interactive table.\"\n",
              "              style=\"display:none;\">\n",
              "        \n",
              "  <svg xmlns=\"http://www.w3.org/2000/svg\" height=\"24px\"viewBox=\"0 0 24 24\"\n",
              "       width=\"24px\">\n",
              "    <path d=\"M0 0h24v24H0V0z\" fill=\"none\"/>\n",
              "    <path d=\"M18.56 5.44l.94 2.06.94-2.06 2.06-.94-2.06-.94-.94-2.06-.94 2.06-2.06.94zm-11 1L8.5 8.5l.94-2.06 2.06-.94-2.06-.94L8.5 2.5l-.94 2.06-2.06.94zm10 10l.94 2.06.94-2.06 2.06-.94-2.06-.94-.94-2.06-.94 2.06-2.06.94z\"/><path d=\"M17.41 7.96l-1.37-1.37c-.4-.4-.92-.59-1.43-.59-.52 0-1.04.2-1.43.59L10.3 9.45l-7.72 7.72c-.78.78-.78 2.05 0 2.83L4 21.41c.39.39.9.59 1.41.59.51 0 1.02-.2 1.41-.59l7.78-7.78 2.81-2.81c.8-.78.8-2.07 0-2.86zM5.41 20L4 18.59l7.72-7.72 1.47 1.35L5.41 20z\"/>\n",
              "  </svg>\n",
              "      </button>\n",
              "      \n",
              "  <style>\n",
              "    .colab-df-container {\n",
              "      display:flex;\n",
              "      flex-wrap:wrap;\n",
              "      gap: 12px;\n",
              "    }\n",
              "\n",
              "    .colab-df-convert {\n",
              "      background-color: #E8F0FE;\n",
              "      border: none;\n",
              "      border-radius: 50%;\n",
              "      cursor: pointer;\n",
              "      display: none;\n",
              "      fill: #1967D2;\n",
              "      height: 32px;\n",
              "      padding: 0 0 0 0;\n",
              "      width: 32px;\n",
              "    }\n",
              "\n",
              "    .colab-df-convert:hover {\n",
              "      background-color: #E2EBFA;\n",
              "      box-shadow: 0px 1px 2px rgba(60, 64, 67, 0.3), 0px 1px 3px 1px rgba(60, 64, 67, 0.15);\n",
              "      fill: #174EA6;\n",
              "    }\n",
              "\n",
              "    [theme=dark] .colab-df-convert {\n",
              "      background-color: #3B4455;\n",
              "      fill: #D2E3FC;\n",
              "    }\n",
              "\n",
              "    [theme=dark] .colab-df-convert:hover {\n",
              "      background-color: #434B5C;\n",
              "      box-shadow: 0px 1px 3px 1px rgba(0, 0, 0, 0.15);\n",
              "      filter: drop-shadow(0px 1px 2px rgba(0, 0, 0, 0.3));\n",
              "      fill: #FFFFFF;\n",
              "    }\n",
              "  </style>\n",
              "\n",
              "      <script>\n",
              "        const buttonEl =\n",
              "          document.querySelector('#df-61bf6b17-a3e2-469b-a8df-c1b39a55ddec button.colab-df-convert');\n",
              "        buttonEl.style.display =\n",
              "          google.colab.kernel.accessAllowed ? 'block' : 'none';\n",
              "\n",
              "        async function convertToInteractive(key) {\n",
              "          const element = document.querySelector('#df-61bf6b17-a3e2-469b-a8df-c1b39a55ddec');\n",
              "          const dataTable =\n",
              "            await google.colab.kernel.invokeFunction('convertToInteractive',\n",
              "                                                     [key], {});\n",
              "          if (!dataTable) return;\n",
              "\n",
              "          const docLinkHtml = 'Like what you see? Visit the ' +\n",
              "            '<a target=\"_blank\" href=https://colab.research.google.com/notebooks/data_table.ipynb>data table notebook</a>'\n",
              "            + ' to learn more about interactive tables.';\n",
              "          element.innerHTML = '';\n",
              "          dataTable['output_type'] = 'display_data';\n",
              "          await google.colab.output.renderOutput(dataTable, element);\n",
              "          const docLink = document.createElement('div');\n",
              "          docLink.innerHTML = docLinkHtml;\n",
              "          element.appendChild(docLink);\n",
              "        }\n",
              "      </script>\n",
              "    </div>\n",
              "  </div>\n",
              "  "
            ]
          },
          "metadata": {},
          "execution_count": 9
        }
      ]
    },
    {
      "cell_type": "code",
      "source": [
        "# Show samples distribution across different sample sets\n",
        "print('Samples distribution across Usage:')\n",
        "print(data.Usage.value_counts())"
      ],
      "metadata": {
        "colab": {
          "base_uri": "https://localhost:8080/"
        },
        "id": "9rYpEtYDbB_G",
        "outputId": "d745254c-27f0-4c77-ba90-89ba509edfaf"
      },
      "execution_count": null,
      "outputs": [
        {
          "output_type": "stream",
          "name": "stdout",
          "text": [
            "Samples distribution across Usage:\n",
            "Training       28709\n",
            "PublicTest      3589\n",
            "PrivateTest     3589\n",
            "Name: Usage, dtype: int64\n"
          ]
        }
      ]
    },
    {
      "cell_type": "code",
      "source": [
        "# How much Samples per emotion\n",
        "print('Samples per emotion:')\n",
        "print(data.emotion.value_counts())"
      ],
      "metadata": {
        "colab": {
          "base_uri": "https://localhost:8080/"
        },
        "id": "df_fVOGPbE1H",
        "outputId": "2d2e5f62-bdf4-4a10-efc3-a1bda607b0fb"
      },
      "execution_count": null,
      "outputs": [
        {
          "output_type": "stream",
          "name": "stdout",
          "text": [
            "Samples per emotion:\n",
            "3    8989\n",
            "6    6198\n",
            "4    6077\n",
            "2    5121\n",
            "0    4953\n",
            "5    4002\n",
            "1     547\n",
            "Name: emotion, dtype: int64\n"
          ]
        }
      ]
    },
    {
      "cell_type": "code",
      "source": [
        "# Graph of How much Samples per emotion\n",
        "sns.countplot(data.emotion)\n",
        "plt.show()"
      ],
      "metadata": {
        "colab": {
          "base_uri": "https://localhost:8080/",
          "height": 336
        },
        "id": "FH1LYPj-bHNC",
        "outputId": "18d1086c-2b75-4c7b-fa6a-c1d7a841ae2b"
      },
      "execution_count": null,
      "outputs": [
        {
          "output_type": "stream",
          "name": "stderr",
          "text": [
            "/usr/local/lib/python3.8/dist-packages/seaborn/_decorators.py:36: FutureWarning: Pass the following variable as a keyword arg: x. From version 0.12, the only valid positional argument will be `data`, and passing other arguments without an explicit keyword will result in an error or misinterpretation.\n",
            "  warnings.warn(\n"
          ]
        },
        {
          "output_type": "display_data",
          "data": {
            "text/plain": [
              "<Figure size 432x288 with 1 Axes>"
            ],
            "image/png": "[encoded data removed]"
          },
          "metadata": {
            "needs_background": "light"
          }
        }
      ]
    },
    {
      "cell_type": "code",
      "source": [
        "# Number of pixels for each sample\n",
        "print('Number of pixels for a sample:')\n",
        "print(len(data.pixels[0].split(' ')))"
      ],
      "metadata": {
        "colab": {
          "base_uri": "https://localhost:8080/"
        },
        "id": "XHHxjzm0bS2Z",
        "outputId": "d51ee7f9-dfe0-4472-bbfc-12382e494776"
      },
      "execution_count": null,
      "outputs": [
        {
          "output_type": "stream",
          "name": "stdout",
          "text": [
            "Number of pixels for a sample:\n",
            "2304\n"
          ]
        }
      ]
    },
    {
      "cell_type": "code",
      "source": [
        "# Split the dataset into training, validation and test sets depending on the Usage value for the samples\n",
        "data_train = data[data.Usage =='Training'].reset_index(drop=True) \n",
        "data_val = data[data.Usage =='PrivateTest'].reset_index(drop=True) \n",
        "data_test = data[data.Usage =='PublicTest'].reset_index(drop=True) \n",
        "\n",
        "print(data_train.shape,data_val.shape,data_test.shape)"
      ],
      "metadata": {
        "colab": {
          "base_uri": "https://localhost:8080/"
        },
        "id": "dmb7q0FYbWH2",
        "outputId": "c6a06879-04cb-4779-f949-65ecc042e0c0"
      },
      "execution_count": null,
      "outputs": [
        {
          "output_type": "stream",
          "name": "stdout",
          "text": [
            "(28709, 3) (3589, 3) (3589, 3)\n"
          ]
        }
      ]
    },
    {
      "cell_type": "code",
      "source": [
        "print(data_test)"
      ],
      "metadata": {
        "colab": {
          "base_uri": "https://localhost:8080/"
        },
        "id": "577kZv9vfiKl",
        "outputId": "c76b8c8a-cd07-4978-954e-874e8ec71914"
      },
      "execution_count": null,
      "outputs": [
        {
          "output_type": "stream",
          "name": "stdout",
          "text": [
            "      emotion                                             pixels       Usage\n",
            "0           0  254 254 254 254 254 249 255 160 2 58 53 70 77 ...  PublicTest\n",
            "1           1  156 184 198 202 204 207 210 212 213 214 215 21...  PublicTest\n",
            "2           4  69 118 61 60 96 121 103 87 103 88 70 90 115 12...  PublicTest\n",
            "3           6  205 203 236 157 83 158 120 116 94 86 155 180 2...  PublicTest\n",
            "4           3  87 79 74 66 74 96 77 80 80 84 83 89 102 91 84 ...  PublicTest\n",
            "...       ...                                                ...         ...\n",
            "3584        4  178 176 172 173 173 174 176 173 166 166 206 22...  PublicTest\n",
            "3585        3  25 34 42 44 42 47 57 59 59 58 54 51 50 56 63 6...  PublicTest\n",
            "3586        4  255 255 255 255 255 255 255 255 255 255 255 25...  PublicTest\n",
            "3587        4  33 25 31 36 36 42 69 103 132 163 175 183 187 1...  PublicTest\n",
            "3588        4  61 63 59 75 151 159 166 161 143 170 127 131 18...  PublicTest\n",
            "\n",
            "[3589 rows x 3 columns]\n"
          ]
        }
      ]
    },
    {
      "cell_type": "code",
      "source": [
        "# Show the train_set\n",
        "data_train"
      ],
      "metadata": {
        "colab": {
          "base_uri": "https://localhost:8080/",
          "height": 423
        },
        "id": "kdU0EdEObZ4x",
        "outputId": "970f848c-b97d-4996-8bce-c88bf5c6a6a2"
      },
      "execution_count": null,
      "outputs": [
        {
          "output_type": "execute_result",
          "data": {
            "text/plain": [
              "       emotion                                             pixels     Usage\n",
              "0            0  70 80 82 72 58 58 60 63 54 58 60 48 89 115 121...  Training\n",
              "1            0  151 150 147 155 148 133 111 140 170 174 182 15...  Training\n",
              "2            2  231 212 156 164 174 138 161 173 182 200 106 38...  Training\n",
              "3            4  24 32 36 30 32 23 19 20 30 41 21 22 32 34 21 1...  Training\n",
              "4            6  4 0 0 0 0 0 0 0 0 0 0 0 3 15 23 28 48 50 58 84...  Training\n",
              "...        ...                                                ...       ...\n",
              "28704        2  84 85 85 85 85 85 85 85 86 86 86 87 86 86 91 9...  Training\n",
              "28705        0  114 112 113 113 111 111 112 113 115 113 114 11...  Training\n",
              "28706        4  74 81 87 89 95 100 98 93 105 120 127 133 146 1...  Training\n",
              "28707        0  222 227 203 90 86 90 84 77 94 87 99 119 134 14...  Training\n",
              "28708        4  195 199 205 206 205 203 206 209 208 210 212 21...  Training\n",
              "\n",
              "[28709 rows x 3 columns]"
            ],
            "text/html": [
              "\n",
              "  <div id=\"df-33ad8d8d-af2b-45b1-b024-21d846fb807a\">\n",
              "    <div class=\"colab-df-container\">\n",
              "      <div>\n",
              "<style scoped>\n",
              "    .dataframe tbody tr th:only-of-type {\n",
              "        vertical-align: middle;\n",
              "    }\n",
              "\n",
              "    .dataframe tbody tr th {\n",
              "        vertical-align: top;\n",
              "    }\n",
              "\n",
              "    .dataframe thead th {\n",
              "        text-align: right;\n",
              "    }\n",
              "</style>\n",
              "<table border=\"1\" class=\"dataframe\">\n",
              "  <thead>\n",
              "    <tr style=\"text-align: right;\">\n",
              "      <th></th>\n",
              "      <th>emotion</th>\n",
              "      <th>pixels</th>\n",
              "      <th>Usage</th>\n",
              "    </tr>\n",
              "  </thead>\n",
              "  <tbody>\n",
              "    <tr>\n",
              "      <th>0</th>\n",
              "      <td>0</td>\n",
              "      <td>70 80 82 72 58 58 60 63 54 58 60 48 89 115 121...</td>\n",
              "      <td>Training</td>\n",
              "    </tr>\n",
              "    <tr>\n",
              "      <th>1</th>\n",
              "      <td>0</td>\n",
              "      <td>151 150 147 155 148 133 111 140 170 174 182 15...</td>\n",
              "      <td>Training</td>\n",
              "    </tr>\n",
              "    <tr>\n",
              "      <th>2</th>\n",
              "      <td>2</td>\n",
              "      <td>231 212 156 164 174 138 161 173 182 200 106 38...</td>\n",
              "      <td>Training</td>\n",
              "    </tr>\n",
              "    <tr>\n",
              "      <th>3</th>\n",
              "      <td>4</td>\n",
              "      <td>24 32 36 30 32 23 19 20 30 41 21 22 32 34 21 1...</td>\n",
              "      <td>Training</td>\n",
              "    </tr>\n",
              "    <tr>\n",
              "      <th>4</th>\n",
              "      <td>6</td>\n",
              "      <td>4 0 0 0 0 0 0 0 0 0 0 0 3 15 23 28 48 50 58 84...</td>\n",
              "      <td>Training</td>\n",
              "    </tr>\n",
              "    <tr>\n",
              "      <th>...</th>\n",
              "      <td>...</td>\n",
              "      <td>...</td>\n",
              "      <td>...</td>\n",
              "    </tr>\n",
              "    <tr>\n",
              "      <th>28704</th>\n",
              "      <td>2</td>\n",
              "      <td>84 85 85 85 85 85 85 85 86 86 86 87 86 86 91 9...</td>\n",
              "      <td>Training</td>\n",
              "    </tr>\n",
              "    <tr>\n",
              "      <th>28705</th>\n",
              "      <td>0</td>\n",
              "      <td>114 112 113 113 111 111 112 113 115 113 114 11...</td>\n",
              "      <td>Training</td>\n",
              "    </tr>\n",
              "    <tr>\n",
              "      <th>28706</th>\n",
              "      <td>4</td>\n",
              "      <td>74 81 87 89 95 100 98 93 105 120 127 133 146 1...</td>\n",
              "      <td>Training</td>\n",
              "    </tr>\n",
              "    <tr>\n",
              "      <th>28707</th>\n",
              "      <td>0</td>\n",
              "      <td>222 227 203 90 86 90 84 77 94 87 99 119 134 14...</td>\n",
              "      <td>Training</td>\n",
              "    </tr>\n",
              "    <tr>\n",
              "      <th>28708</th>\n",
              "      <td>4</td>\n",
              "      <td>195 199 205 206 205 203 206 209 208 210 212 21...</td>\n",
              "      <td>Training</td>\n",
              "    </tr>\n",
              "  </tbody>\n",
              "</table>\n",
              "<p>28709 rows × 3 columns</p>\n",
              "</div>\n",
              "      <button class=\"colab-df-convert\" onclick=\"convertToInteractive('df-33ad8d8d-af2b-45b1-b024-21d846fb807a')\"\n",
              "              title=\"Convert this dataframe to an interactive table.\"\n",
              "              style=\"display:none;\">\n",
              "        \n",
              "  <svg xmlns=\"http://www.w3.org/2000/svg\" height=\"24px\"viewBox=\"0 0 24 24\"\n",
              "       width=\"24px\">\n",
              "    <path d=\"M0 0h24v24H0V0z\" fill=\"none\"/>\n",
              "    <path d=\"M18.56 5.44l.94 2.06.94-2.06 2.06-.94-2.06-.94-.94-2.06-.94 2.06-2.06.94zm-11 1L8.5 8.5l.94-2.06 2.06-.94-2.06-.94L8.5 2.5l-.94 2.06-2.06.94zm10 10l.94 2.06.94-2.06 2.06-.94-2.06-.94-.94-2.06-.94 2.06-2.06.94z\"/><path d=\"M17.41 7.96l-1.37-1.37c-.4-.4-.92-.59-1.43-.59-.52 0-1.04.2-1.43.59L10.3 9.45l-7.72 7.72c-.78.78-.78 2.05 0 2.83L4 21.41c.39.39.9.59 1.41.59.51 0 1.02-.2 1.41-.59l7.78-7.78 2.81-2.81c.8-.78.8-2.07 0-2.86zM5.41 20L4 18.59l7.72-7.72 1.47 1.35L5.41 20z\"/>\n",
              "  </svg>\n",
              "      </button>\n",
              "      \n",
              "  <style>\n",
              "    .colab-df-container {\n",
              "      display:flex;\n",
              "      flex-wrap:wrap;\n",
              "      gap: 12px;\n",
              "    }\n",
              "\n",
              "    .colab-df-convert {\n",
              "      background-color: #E8F0FE;\n",
              "      border: none;\n",
              "      border-radius: 50%;\n",
              "      cursor: pointer;\n",
              "      display: none;\n",
              "      fill: #1967D2;\n",
              "      height: 32px;\n",
              "      padding: 0 0 0 0;\n",
              "      width: 32px;\n",
              "    }\n",
              "\n",
              "    .colab-df-convert:hover {\n",
              "      background-color: #E2EBFA;\n",
              "      box-shadow: 0px 1px 2px rgba(60, 64, 67, 0.3), 0px 1px 3px 1px rgba(60, 64, 67, 0.15);\n",
              "      fill: #174EA6;\n",
              "    }\n",
              "\n",
              "    [theme=dark] .colab-df-convert {\n",
              "      background-color: #3B4455;\n",
              "      fill: #D2E3FC;\n",
              "    }\n",
              "\n",
              "    [theme=dark] .colab-df-convert:hover {\n",
              "      background-color: #434B5C;\n",
              "      box-shadow: 0px 1px 3px 1px rgba(0, 0, 0, 0.15);\n",
              "      filter: drop-shadow(0px 1px 2px rgba(0, 0, 0, 0.3));\n",
              "      fill: #FFFFFF;\n",
              "    }\n",
              "  </style>\n",
              "\n",
              "      <script>\n",
              "        const buttonEl =\n",
              "          document.querySelector('#df-33ad8d8d-af2b-45b1-b024-21d846fb807a button.colab-df-convert');\n",
              "        buttonEl.style.display =\n",
              "          google.colab.kernel.accessAllowed ? 'block' : 'none';\n",
              "\n",
              "        async function convertToInteractive(key) {\n",
              "          const element = document.querySelector('#df-33ad8d8d-af2b-45b1-b024-21d846fb807a');\n",
              "          const dataTable =\n",
              "            await google.colab.kernel.invokeFunction('convertToInteractive',\n",
              "                                                     [key], {});\n",
              "          if (!dataTable) return;\n",
              "\n",
              "          const docLinkHtml = 'Like what you see? Visit the ' +\n",
              "            '<a target=\"_blank\" href=https://colab.research.google.com/notebooks/data_table.ipynb>data table notebook</a>'\n",
              "            + ' to learn more about interactive tables.';\n",
              "          element.innerHTML = '';\n",
              "          dataTable['output_type'] = 'display_data';\n",
              "          await google.colab.output.renderOutput(dataTable, element);\n",
              "          const docLink = document.createElement('div');\n",
              "          docLink.innerHTML = docLinkHtml;\n",
              "          element.appendChild(docLink);\n",
              "        }\n",
              "      </script>\n",
              "    </div>\n",
              "  </div>\n",
              "  "
            ]
          },
          "metadata": {},
          "execution_count": 16
        }
      ]
    },
    {
      "cell_type": "code",
      "source": [
        "# Show the validation_set\n",
        "data_val"
      ],
      "metadata": {
        "colab": {
          "base_uri": "https://localhost:8080/",
          "height": 423
        },
        "id": "1FxCulwnba66",
        "outputId": "1afb1a3b-f1e7-473e-c82f-7a51387705bb"
      },
      "execution_count": null,
      "outputs": [
        {
          "output_type": "execute_result",
          "data": {
            "text/plain": [
              "      emotion                                             pixels        Usage\n",
              "0           0  170 118 101 88 88 75 78 82 66 74 68 59 63 64 6...  PrivateTest\n",
              "1           5  7 5 8 6 7 3 2 6 5 4 4 5 7 5 5 5 6 7 7 7 10 10 ...  PrivateTest\n",
              "2           6  232 240 241 239 237 235 246 117 24 24 22 13 12...  PrivateTest\n",
              "3           4  200 197 149 139 156 89 111 58 62 95 113 117 11...  PrivateTest\n",
              "4           2  40 28 33 56 45 33 31 78 152 194 200 186 196 20...  PrivateTest\n",
              "...       ...                                                ...          ...\n",
              "3584        6  50 36 17 22 23 29 33 39 34 37 37 37 39 43 48 5...  PrivateTest\n",
              "3585        3  178 174 172 173 181 188 191 194 196 199 200 20...  PrivateTest\n",
              "3586        0  17 17 16 23 28 22 19 17 25 26 20 24 31 19 27 9...  PrivateTest\n",
              "3587        3  30 28 28 29 31 30 42 68 79 81 77 67 67 71 63 6...  PrivateTest\n",
              "3588        2  19 13 14 12 13 16 21 33 50 57 71 84 97 108 122...  PrivateTest\n",
              "\n",
              "[3589 rows x 3 columns]"
            ],
            "text/html": [
              "\n",
              "  <div id=\"df-06e15907-8e42-48b2-bf3f-86d9002b63a4\">\n",
              "    <div class=\"colab-df-container\">\n",
              "      <div>\n",
              "<style scoped>\n",
              "    .dataframe tbody tr th:only-of-type {\n",
              "        vertical-align: middle;\n",
              "    }\n",
              "\n",
              "    .dataframe tbody tr th {\n",
              "        vertical-align: top;\n",
              "    }\n",
              "\n",
              "    .dataframe thead th {\n",
              "        text-align: right;\n",
              "    }\n",
              "</style>\n",
              "<table border=\"1\" class=\"dataframe\">\n",
              "  <thead>\n",
              "    <tr style=\"text-align: right;\">\n",
              "      <th></th>\n",
              "      <th>emotion</th>\n",
              "      <th>pixels</th>\n",
              "      <th>Usage</th>\n",
              "    </tr>\n",
              "  </thead>\n",
              "  <tbody>\n",
              "    <tr>\n",
              "      <th>0</th>\n",
              "      <td>0</td>\n",
              "      <td>170 118 101 88 88 75 78 82 66 74 68 59 63 64 6...</td>\n",
              "      <td>PrivateTest</td>\n",
              "    </tr>\n",
              "    <tr>\n",
              "      <th>1</th>\n",
              "      <td>5</td>\n",
              "      <td>7 5 8 6 7 3 2 6 5 4 4 5 7 5 5 5 6 7 7 7 10 10 ...</td>\n",
              "      <td>PrivateTest</td>\n",
              "    </tr>\n",
              "    <tr>\n",
              "      <th>2</th>\n",
              "      <td>6</td>\n",
              "      <td>232 240 241 239 237 235 246 117 24 24 22 13 12...</td>\n",
              "      <td>PrivateTest</td>\n",
              "    </tr>\n",
              "    <tr>\n",
              "      <th>3</th>\n",
              "      <td>4</td>\n",
              "      <td>200 197 149 139 156 89 111 58 62 95 113 117 11...</td>\n",
              "      <td>PrivateTest</td>\n",
              "    </tr>\n",
              "    <tr>\n",
              "      <th>4</th>\n",
              "      <td>2</td>\n",
              "      <td>40 28 33 56 45 33 31 78 152 194 200 186 196 20...</td>\n",
              "      <td>PrivateTest</td>\n",
              "    </tr>\n",
              "    <tr>\n",
              "      <th>...</th>\n",
              "      <td>...</td>\n",
              "      <td>...</td>\n",
              "      <td>...</td>\n",
              "    </tr>\n",
              "    <tr>\n",
              "      <th>3584</th>\n",
              "      <td>6</td>\n",
              "      <td>50 36 17 22 23 29 33 39 34 37 37 37 39 43 48 5...</td>\n",
              "      <td>PrivateTest</td>\n",
              "    </tr>\n",
              "    <tr>\n",
              "      <th>3585</th>\n",
              "      <td>3</td>\n",
              "      <td>178 174 172 173 181 188 191 194 196 199 200 20...</td>\n",
              "      <td>PrivateTest</td>\n",
              "    </tr>\n",
              "    <tr>\n",
              "      <th>3586</th>\n",
              "      <td>0</td>\n",
              "      <td>17 17 16 23 28 22 19 17 25 26 20 24 31 19 27 9...</td>\n",
              "      <td>PrivateTest</td>\n",
              "    </tr>\n",
              "    <tr>\n",
              "      <th>3587</th>\n",
              "      <td>3</td>\n",
              "      <td>30 28 28 29 31 30 42 68 79 81 77 67 67 71 63 6...</td>\n",
              "      <td>PrivateTest</td>\n",
              "    </tr>\n",
              "    <tr>\n",
              "      <th>3588</th>\n",
              "      <td>2</td>\n",
              "      <td>19 13 14 12 13 16 21 33 50 57 71 84 97 108 122...</td>\n",
              "      <td>PrivateTest</td>\n",
              "    </tr>\n",
              "  </tbody>\n",
              "</table>\n",
              "<p>3589 rows × 3 columns</p>\n",
              "</div>\n",
              "      <button class=\"colab-df-convert\" onclick=\"convertToInteractive('df-06e15907-8e42-48b2-bf3f-86d9002b63a4')\"\n",
              "              title=\"Convert this dataframe to an interactive table.\"\n",
              "              style=\"display:none;\">\n",
              "        \n",
              "  <svg xmlns=\"http://www.w3.org/2000/svg\" height=\"24px\"viewBox=\"0 0 24 24\"\n",
              "       width=\"24px\">\n",
              "    <path d=\"M0 0h24v24H0V0z\" fill=\"none\"/>\n",
              "    <path d=\"M18.56 5.44l.94 2.06.94-2.06 2.06-.94-2.06-.94-.94-2.06-.94 2.06-2.06.94zm-11 1L8.5 8.5l.94-2.06 2.06-.94-2.06-.94L8.5 2.5l-.94 2.06-2.06.94zm10 10l.94 2.06.94-2.06 2.06-.94-2.06-.94-.94-2.06-.94 2.06-2.06.94z\"/><path d=\"M17.41 7.96l-1.37-1.37c-.4-.4-.92-.59-1.43-.59-.52 0-1.04.2-1.43.59L10.3 9.45l-7.72 7.72c-.78.78-.78 2.05 0 2.83L4 21.41c.39.39.9.59 1.41.59.51 0 1.02-.2 1.41-.59l7.78-7.78 2.81-2.81c.8-.78.8-2.07 0-2.86zM5.41 20L4 18.59l7.72-7.72 1.47 1.35L5.41 20z\"/>\n",
              "  </svg>\n",
              "      </button>\n",
              "      \n",
              "  <style>\n",
              "    .colab-df-container {\n",
              "      display:flex;\n",
              "      flex-wrap:wrap;\n",
              "      gap: 12px;\n",
              "    }\n",
              "\n",
              "    .colab-df-convert {\n",
              "      background-color: #E8F0FE;\n",
              "      border: none;\n",
              "      border-radius: 50%;\n",
              "      cursor: pointer;\n",
              "      display: none;\n",
              "      fill: #1967D2;\n",
              "      height: 32px;\n",
              "      padding: 0 0 0 0;\n",
              "      width: 32px;\n",
              "    }\n",
              "\n",
              "    .colab-df-convert:hover {\n",
              "      background-color: #E2EBFA;\n",
              "      box-shadow: 0px 1px 2px rgba(60, 64, 67, 0.3), 0px 1px 3px 1px rgba(60, 64, 67, 0.15);\n",
              "      fill: #174EA6;\n",
              "    }\n",
              "\n",
              "    [theme=dark] .colab-df-convert {\n",
              "      background-color: #3B4455;\n",
              "      fill: #D2E3FC;\n",
              "    }\n",
              "\n",
              "    [theme=dark] .colab-df-convert:hover {\n",
              "      background-color: #434B5C;\n",
              "      box-shadow: 0px 1px 3px 1px rgba(0, 0, 0, 0.15);\n",
              "      filter: drop-shadow(0px 1px 2px rgba(0, 0, 0, 0.3));\n",
              "      fill: #FFFFFF;\n",
              "    }\n",
              "  </style>\n",
              "\n",
              "      <script>\n",
              "        const buttonEl =\n",
              "          document.querySelector('#df-06e15907-8e42-48b2-bf3f-86d9002b63a4 button.colab-df-convert');\n",
              "        buttonEl.style.display =\n",
              "          google.colab.kernel.accessAllowed ? 'block' : 'none';\n",
              "\n",
              "        async function convertToInteractive(key) {\n",
              "          const element = document.querySelector('#df-06e15907-8e42-48b2-bf3f-86d9002b63a4');\n",
              "          const dataTable =\n",
              "            await google.colab.kernel.invokeFunction('convertToInteractive',\n",
              "                                                     [key], {});\n",
              "          if (!dataTable) return;\n",
              "\n",
              "          const docLinkHtml = 'Like what you see? Visit the ' +\n",
              "            '<a target=\"_blank\" href=https://colab.research.google.com/notebooks/data_table.ipynb>data table notebook</a>'\n",
              "            + ' to learn more about interactive tables.';\n",
              "          element.innerHTML = '';\n",
              "          dataTable['output_type'] = 'display_data';\n",
              "          await google.colab.output.renderOutput(dataTable, element);\n",
              "          const docLink = document.createElement('div');\n",
              "          docLink.innerHTML = docLinkHtml;\n",
              "          element.appendChild(docLink);\n",
              "        }\n",
              "      </script>\n",
              "    </div>\n",
              "  </div>\n",
              "  "
            ]
          },
          "metadata": {},
          "execution_count": 17
        }
      ]
    },
    {
      "cell_type": "code",
      "source": [
        "# Show the test_set\n",
        "data_test"
      ],
      "metadata": {
        "colab": {
          "base_uri": "https://localhost:8080/",
          "height": 423
        },
        "id": "h38PYI-mbfLY",
        "outputId": "baa1cb45-c7b9-4afa-a9a4-8202b9ed83bd"
      },
      "execution_count": null,
      "outputs": [
        {
          "output_type": "execute_result",
          "data": {
            "text/plain": [
              "      emotion                                             pixels       Usage\n",
              "0           0  254 254 254 254 254 249 255 160 2 58 53 70 77 ...  PublicTest\n",
              "1           1  156 184 198 202 204 207 210 212 213 214 215 21...  PublicTest\n",
              "2           4  69 118 61 60 96 121 103 87 103 88 70 90 115 12...  PublicTest\n",
              "3           6  205 203 236 157 83 158 120 116 94 86 155 180 2...  PublicTest\n",
              "4           3  87 79 74 66 74 96 77 80 80 84 83 89 102 91 84 ...  PublicTest\n",
              "...       ...                                                ...         ...\n",
              "3584        4  178 176 172 173 173 174 176 173 166 166 206 22...  PublicTest\n",
              "3585        3  25 34 42 44 42 47 57 59 59 58 54 51 50 56 63 6...  PublicTest\n",
              "3586        4  255 255 255 255 255 255 255 255 255 255 255 25...  PublicTest\n",
              "3587        4  33 25 31 36 36 42 69 103 132 163 175 183 187 1...  PublicTest\n",
              "3588        4  61 63 59 75 151 159 166 161 143 170 127 131 18...  PublicTest\n",
              "\n",
              "[3589 rows x 3 columns]"
            ],
            "text/html": [
              "\n",
              "  <div id=\"df-20b760e7-da2e-40c3-b60d-0b67445ccc2d\">\n",
              "    <div class=\"colab-df-container\">\n",
              "      <div>\n",
              "<style scoped>\n",
              "    .dataframe tbody tr th:only-of-type {\n",
              "        vertical-align: middle;\n",
              "    }\n",
              "\n",
              "    .dataframe tbody tr th {\n",
              "        vertical-align: top;\n",
              "    }\n",
              "\n",
              "    .dataframe thead th {\n",
              "        text-align: right;\n",
              "    }\n",
              "</style>\n",
              "<table border=\"1\" class=\"dataframe\">\n",
              "  <thead>\n",
              "    <tr style=\"text-align: right;\">\n",
              "      <th></th>\n",
              "      <th>emotion</th>\n",
              "      <th>pixels</th>\n",
              "      <th>Usage</th>\n",
              "    </tr>\n",
              "  </thead>\n",
              "  <tbody>\n",
              "    <tr>\n",
              "      <th>0</th>\n",
              "      <td>0</td>\n",
              "      <td>254 254 254 254 254 249 255 160 2 58 53 70 77 ...</td>\n",
              "      <td>PublicTest</td>\n",
              "    </tr>\n",
              "    <tr>\n",
              "      <th>1</th>\n",
              "      <td>1</td>\n",
              "      <td>156 184 198 202 204 207 210 212 213 214 215 21...</td>\n",
              "      <td>PublicTest</td>\n",
              "    </tr>\n",
              "    <tr>\n",
              "      <th>2</th>\n",
              "      <td>4</td>\n",
              "      <td>69 118 61 60 96 121 103 87 103 88 70 90 115 12...</td>\n",
              "      <td>PublicTest</td>\n",
              "    </tr>\n",
              "    <tr>\n",
              "      <th>3</th>\n",
              "      <td>6</td>\n",
              "      <td>205 203 236 157 83 158 120 116 94 86 155 180 2...</td>\n",
              "      <td>PublicTest</td>\n",
              "    </tr>\n",
              "    <tr>\n",
              "      <th>4</th>\n",
              "      <td>3</td>\n",
              "      <td>87 79 74 66 74 96 77 80 80 84 83 89 102 91 84 ...</td>\n",
              "      <td>PublicTest</td>\n",
              "    </tr>\n",
              "    <tr>\n",
              "      <th>...</th>\n",
              "      <td>...</td>\n",
              "      <td>...</td>\n",
              "      <td>...</td>\n",
              "    </tr>\n",
              "    <tr>\n",
              "      <th>3584</th>\n",
              "      <td>4</td>\n",
              "      <td>178 176 172 173 173 174 176 173 166 166 206 22...</td>\n",
              "      <td>PublicTest</td>\n",
              "    </tr>\n",
              "    <tr>\n",
              "      <th>3585</th>\n",
              "      <td>3</td>\n",
              "      <td>25 34 42 44 42 47 57 59 59 58 54 51 50 56 63 6...</td>\n",
              "      <td>PublicTest</td>\n",
              "    </tr>\n",
              "    <tr>\n",
              "      <th>3586</th>\n",
              "      <td>4</td>\n",
              "      <td>255 255 255 255 255 255 255 255 255 255 255 25...</td>\n",
              "      <td>PublicTest</td>\n",
              "    </tr>\n",
              "    <tr>\n",
              "      <th>3587</th>\n",
              "      <td>4</td>\n",
              "      <td>33 25 31 36 36 42 69 103 132 163 175 183 187 1...</td>\n",
              "      <td>PublicTest</td>\n",
              "    </tr>\n",
              "    <tr>\n",
              "      <th>3588</th>\n",
              "      <td>4</td>\n",
              "      <td>61 63 59 75 151 159 166 161 143 170 127 131 18...</td>\n",
              "      <td>PublicTest</td>\n",
              "    </tr>\n",
              "  </tbody>\n",
              "</table>\n",
              "<p>3589 rows × 3 columns</p>\n",
              "</div>\n",
              "      <button class=\"colab-df-convert\" onclick=\"convertToInteractive('df-20b760e7-da2e-40c3-b60d-0b67445ccc2d')\"\n",
              "              title=\"Convert this dataframe to an interactive table.\"\n",
              "              style=\"display:none;\">\n",
              "        \n",
              "  <svg xmlns=\"http://www.w3.org/2000/svg\" height=\"24px\"viewBox=\"0 0 24 24\"\n",
              "       width=\"24px\">\n",
              "    <path d=\"M0 0h24v24H0V0z\" fill=\"none\"/>\n",
              "    <path d=\"M18.56 5.44l.94 2.06.94-2.06 2.06-.94-2.06-.94-.94-2.06-.94 2.06-2.06.94zm-11 1L8.5 8.5l.94-2.06 2.06-.94-2.06-.94L8.5 2.5l-.94 2.06-2.06.94zm10 10l.94 2.06.94-2.06 2.06-.94-2.06-.94-.94-2.06-.94 2.06-2.06.94z\"/><path d=\"M17.41 7.96l-1.37-1.37c-.4-.4-.92-.59-1.43-.59-.52 0-1.04.2-1.43.59L10.3 9.45l-7.72 7.72c-.78.78-.78 2.05 0 2.83L4 21.41c.39.39.9.59 1.41.59.51 0 1.02-.2 1.41-.59l7.78-7.78 2.81-2.81c.8-.78.8-2.07 0-2.86zM5.41 20L4 18.59l7.72-7.72 1.47 1.35L5.41 20z\"/>\n",
              "  </svg>\n",
              "      </button>\n",
              "      \n",
              "  <style>\n",
              "    .colab-df-container {\n",
              "      display:flex;\n",
              "      flex-wrap:wrap;\n",
              "      gap: 12px;\n",
              "    }\n",
              "\n",
              "    .colab-df-convert {\n",
              "      background-color: #E8F0FE;\n",
              "      border: none;\n",
              "      border-radius: 50%;\n",
              "      cursor: pointer;\n",
              "      display: none;\n",
              "      fill: #1967D2;\n",
              "      height: 32px;\n",
              "      padding: 0 0 0 0;\n",
              "      width: 32px;\n",
              "    }\n",
              "\n",
              "    .colab-df-convert:hover {\n",
              "      background-color: #E2EBFA;\n",
              "      box-shadow: 0px 1px 2px rgba(60, 64, 67, 0.3), 0px 1px 3px 1px rgba(60, 64, 67, 0.15);\n",
              "      fill: #174EA6;\n",
              "    }\n",
              "\n",
              "    [theme=dark] .colab-df-convert {\n",
              "      background-color: #3B4455;\n",
              "      fill: #D2E3FC;\n",
              "    }\n",
              "\n",
              "    [theme=dark] .colab-df-convert:hover {\n",
              "      background-color: #434B5C;\n",
              "      box-shadow: 0px 1px 3px 1px rgba(0, 0, 0, 0.15);\n",
              "      filter: drop-shadow(0px 1px 2px rgba(0, 0, 0, 0.3));\n",
              "      fill: #FFFFFF;\n",
              "    }\n",
              "  </style>\n",
              "\n",
              "      <script>\n",
              "        const buttonEl =\n",
              "          document.querySelector('#df-20b760e7-da2e-40c3-b60d-0b67445ccc2d button.colab-df-convert');\n",
              "        buttonEl.style.display =\n",
              "          google.colab.kernel.accessAllowed ? 'block' : 'none';\n",
              "\n",
              "        async function convertToInteractive(key) {\n",
              "          const element = document.querySelector('#df-20b760e7-da2e-40c3-b60d-0b67445ccc2d');\n",
              "          const dataTable =\n",
              "            await google.colab.kernel.invokeFunction('convertToInteractive',\n",
              "                                                     [key], {});\n",
              "          if (!dataTable) return;\n",
              "\n",
              "          const docLinkHtml = 'Like what you see? Visit the ' +\n",
              "            '<a target=\"_blank\" href=https://colab.research.google.com/notebooks/data_table.ipynb>data table notebook</a>'\n",
              "            + ' to learn more about interactive tables.';\n",
              "          element.innerHTML = '';\n",
              "          dataTable['output_type'] = 'display_data';\n",
              "          await google.colab.output.renderOutput(dataTable, element);\n",
              "          const docLink = document.createElement('div');\n",
              "          docLink.innerHTML = docLinkHtml;\n",
              "          element.appendChild(docLink);\n",
              "        }\n",
              "      </script>\n",
              "    </div>\n",
              "  </div>\n",
              "  "
            ]
          },
          "metadata": {},
          "execution_count": 18
        }
      ]
    },
    {
      "cell_type": "code",
      "source": [
        "emotion_labels = [\"Angry\", \"Disgust\", \"Fear\", \"Happy\", \"Sad\", \"Surprise\", \"Neutral\"]\n",
        "num_classes = len(emotion_labels)\n",
        "num_classes"
      ],
      "metadata": {
        "colab": {
          "base_uri": "https://localhost:8080/"
        },
        "id": "o3wnr9yRbhl0",
        "outputId": "3e2213ca-d875-4d59-b86e-eaaef83e2fe6"
      },
      "execution_count": null,
      "outputs": [
        {
          "output_type": "execute_result",
          "data": {
            "text/plain": [
              "7"
            ]
          },
          "metadata": {},
          "execution_count": 18
        }
      ]
    },
    {
      "cell_type": "code",
      "source": [
        "class FER2013(torch.utils.data.Dataset):\n",
        "    def __init__(self, data, transforms=None):\n",
        "        self.data = data\n",
        "        self.transforms = transforms\n",
        "\n",
        "    def __len__(self):\n",
        "        return len(self.data)\n",
        "\n",
        "    def __getitem__(self, index):\n",
        "        row = self.data.loc[index]\n",
        "        image, label = np.array([x.split() for x in self.data.loc[index, ['pixels']]]), row['emotion']\n",
        "        image = np.asarray(image).astype(np.uint8).reshape(48, 48, 1)\n",
        "\n",
        "        if self.transforms:\n",
        "            image = self.transforms(image)\n",
        "\n",
        "        return image, label"
      ],
      "metadata": {
        "id": "CcPlQ2waqhAR"
      },
      "execution_count": null,
      "outputs": []
    },
    {
      "cell_type": "code",
      "source": [
        "trfm_train = torchvision.transforms.Compose(\n",
        "    [\n",
        "        torchvision.transforms.ToPILImage(),\n",
        "        torchvision.transforms.Grayscale(num_output_channels=1),\n",
        "        torchvision.transforms.RandomHorizontalFlip(),\n",
        "        torchvision.transforms.ToTensor(),\n",
        "        torchvision.transforms.Normalize((0.5), (0.5))\n",
        "    ])\n",
        "trfm_val_test = torchvision.transforms.Compose(\n",
        "    [\n",
        "        torchvision.transforms.ToPILImage(),\n",
        "        torchvision.transforms.Grayscale(num_output_channels=1),\n",
        "        torchvision.transforms.ToTensor(),\n",
        "        torchvision.transforms.Normalize((0.5), (0.5))\n",
        "    ])\n",
        "\n",
        "data_train = FER2013(data_train, trfm_train)\n",
        "data_val = FER2013(data_val, trfm_val_test)\n",
        "data_test = FER2013(data_test, trfm_val_test)\n",
        "\n",
        "data_train[0]"
      ],
      "metadata": {
        "colab": {
          "base_uri": "https://localhost:8080/"
        },
        "id": "WG-5r7-3qlHE",
        "outputId": "4b59c7de-708b-4ddb-b084-3b217dbf7aaf"
      },
      "execution_count": null,
      "outputs": [
        {
          "output_type": "execute_result",
          "data": {
            "text/plain": [
              "(tensor([[[-0.4510, -0.3725, -0.3569,  ..., -0.5922, -0.6627, -0.6784],\n",
              "          [-0.4902, -0.5216, -0.5451,  ..., -0.5608, -0.5922, -0.6549],\n",
              "          [-0.6078, -0.6627, -0.5765,  ..., -0.6157, -0.5608, -0.6314],\n",
              "          ...,\n",
              "          [-0.2863, -0.4902, -0.6706,  ..., -0.4353, -0.5608, -0.6627],\n",
              "          [-0.3961, -0.3569, -0.3804,  ..., -0.1765, -0.4510, -0.6392],\n",
              "          [-0.3961, -0.4353, -0.3412,  ..., -0.1686, -0.1451, -0.3569]]]), 0)"
            ]
          },
          "metadata": {},
          "execution_count": 20
        }
      ]
    },
    {
      "cell_type": "code",
      "source": [
        "batch_size = 128\n",
        "\n",
        "loader_train = torch.utils.data.DataLoader(data_train, batch_size,\n",
        "shuffle=True, pin_memory=True)\n",
        "loader_val = torch.utils.data.DataLoader(data_val, batch_size, pin_memory=True)\n",
        "loader_test = torch.utils.data.DataLoader(data_test, batch_size, pin_memory=True)"
      ],
      "metadata": {
        "id": "dw964jc2qt5s"
      },
      "execution_count": null,
      "outputs": []
    },
    {
      "cell_type": "code",
      "source": [
        "def show_batch(dl):\n",
        "    for images, labels in dl:\n",
        "        fig, ax = plt.subplots(figsize=(12, 6))\n",
        "        ax.set_xticks([]); ax.set_yticks([])\n",
        "        ax.imshow(torchvision.utils.make_grid(images, nrow=8).permute(1, 2, 0))\n",
        "        break\n",
        "\n",
        "show_batch(loader_train)"
      ],
      "metadata": {
        "colab": {
          "base_uri": "https://localhost:8080/",
          "height": 379
        },
        "id": "gJzxWIwoqu1C",
        "outputId": "bd0bbc6c-8cbe-4c3f-e8f8-368573dfa7ca"
      },
      "execution_count": null,
      "outputs": [
        {
          "output_type": "stream",
          "name": "stderr",
          "text": [
            "WARNING:matplotlib.image:Clipping input data to the valid range for imshow with RGB data ([0..1] for floats or [0..255] for integers).\n"
          ]
        },
        {
          "output_type": "display_data",
          "data": {
            "text/plain": [
              "<Figure size 864x432 with 1 Axes>"
            ],
            "image/png": "[encoded data removed]"
          },
          "metadata": {}
        }
      ]
    },
    {
      "cell_type": "code",
      "source": [
        "class Model_base(torch.nn.Module):\n",
        "    def training_step(self, batch):\n",
        "        images, labels = batch \n",
        "        images = images.to(device)\n",
        "        labels = labels.to(device)\n",
        "        out = self(images)                 \n",
        "        loss = torch.nn.functional.cross_entropy(out, labels)\n",
        "        return loss\n",
        "    \n",
        "    def validation_step(self, batch):\n",
        "        images, labels = batch \n",
        "        images = images.to(device)\n",
        "        labels = labels.to(device)\n",
        "        out = self(images)                    \n",
        "        loss = torch.nn.functional.cross_entropy(out, labels)   \n",
        "        acc = accuracy(out, labels)         \n",
        "        return {'val_loss': loss.detach(), 'val_acc': acc}\n",
        "        \n",
        "    def validation_epoch_end(self, outputs):\n",
        "        batch_losses = [x['val_loss'] for x in outputs]\n",
        "        epoch_loss = torch.stack(batch_losses).mean()  \n",
        "        batch_accs = [x['val_acc'] for x in outputs]\n",
        "        epoch_acc = torch.stack(batch_accs).mean()     \n",
        "        return {'val_loss': epoch_loss.item(), 'val_acc': epoch_acc.item()}\n",
        "    \n",
        "    def epoch_end(self, epoch, result):\n",
        "        print(\"Epoch [{}], train_loss: {:.4f}, val_loss: {:.4f}, val_acc: {:.4f}\".format(\n",
        "            epoch, result['train_loss'], result['val_loss'], result['val_acc']))"
      ],
      "metadata": {
        "id": "WUZTctsHq4nR"
      },
      "execution_count": null,
      "outputs": []
    },
    {
      "cell_type": "code",
      "source": [
        "def conv_block(in_chnl, out_chnl, padding=1):\n",
        "    layers = [\n",
        "        torch.nn.Conv2d(in_chnl, out_chnl, kernel_size=3, padding=padding, stride=1),\n",
        "        torch.nn.ReLU(),\n",
        "        torch.nn.BatchNorm2d(out_chnl),\n",
        "        torch.nn.MaxPool2d(2),\n",
        "        torch.nn.Dropout(0.4)]\n",
        "    return torch.nn.Sequential(*layers)\n",
        "\n",
        "class Model(Model_base):\n",
        "   def __init__(self, in_chnls, num_cls):\n",
        "        super().__init__()\n",
        "        \n",
        "        self.conv1 = torch.nn.Conv2d(in_chnls, 256, kernel_size=3, padding=1) # 256x48x48\n",
        "        self.block1 = conv_block(256, 512)           # 512x24x24 \n",
        "        self.block2 = conv_block(512, 384)                # 384x12x12       \n",
        "        self.block3 = conv_block(384, 192)       # 192x6x6 \n",
        "        self.block4 = conv_block(192, 384)       # 384x3x3\n",
        "    \n",
        "        self.classifier = torch.nn.Sequential(torch.nn.Flatten(),\n",
        "                                        torch.nn.Linear(3456, 256),\n",
        "                                        torch.nn.ReLU(),\n",
        "                                        torch.nn.BatchNorm1d(256),\n",
        "                                        torch.nn.Dropout(0.3),\n",
        "                                        torch.nn.Linear(256, num_cls))    \n",
        "   def forward(self, xb):\n",
        "        out = self.conv1(xb)\n",
        "        out = self.block1(out)\n",
        "        out = self.block2(out)       \n",
        "        out = self.block3(out)\n",
        "        out = self.block4(out)\n",
        "        \n",
        "        return self.classifier(out)"
      ],
      "metadata": {
        "id": "7WSPfkBuq76J"
      },
      "execution_count": null,
      "outputs": []
    },
    {
      "cell_type": "code",
      "source": [
        "from pickle import TRUE\n",
        "def accuracy(outputs, labels):\n",
        "    _, preds = torch.max(outputs, dim=1)\n",
        "    return torch.tensor(torch.sum(preds == labels).item() / len(preds))\n",
        "    \n",
        "@torch.no_grad()\n",
        "def evaluate(model, val_loader):\n",
        "    model.eval()\n",
        "    outputs = [model.validation_step(batch) for batch in val_loader]\n",
        "    return model.validation_epoch_end(outputs)\n",
        "\n",
        "def fit(epochs, lr, model, loader_train, loader_val, opt_func, verbose=True):\n",
        "    history = []\n",
        "    optimizer = opt_func(model.parameters(), lr)\n",
        "    for epoch in range(epochs):\n",
        "        # Training Phase \n",
        "        model.train()\n",
        "        train_losses = []\n",
        "        for batch in loader_train:\n",
        "            loss = model.training_step(batch)\n",
        "            train_losses.append(loss)\n",
        "            loss.backward()\n",
        "            optimizer.step()\n",
        "            optimizer.zero_grad()\n",
        "        # Validation phase\n",
        "        result = evaluate(model, loader_val)\n",
        "        result['train_loss'] = torch.stack(train_losses).mean().item()\n",
        "        model.epoch_end(epoch, result)\n",
        "        history.append(result)\n",
        "\n",
        "        # Print verbose\n",
        "        if verbose:\n",
        "            print(f\"Epoch [{epoch+1}/{epochs}], train_loss: {result['train_loss']:.4f}, val_loss: {result['val_loss']:.4f}, val_acc: {result['val_acc']:.4f}\")\n",
        "    return history"
      ],
      "metadata": {
        "id": "cZ8mZm9irG4c"
      },
      "execution_count": null,
      "outputs": []
    },
    {
      "cell_type": "code",
      "source": [
        "\n",
        "model = Model(1,7).to(device) \n",
        "optimizer = torch.optim.Adam\n",
        "lr=0.001\n",
        "num_epochs=20\n",
        "# Afficher le summary du modèle\n",
        "summary(model, (1, 48, 48))\n",
        "# Print model's state_dict\n",
        "print(\"Model's state_dict:\")\n",
        "for param_tensor in model.state_dict():\n",
        "    print(param_tensor, \"\\t\", model.state_dict()[param_tensor].size())\n",
        "\n",
        "# Print optimizer's state_dict\n",
        "print(\"Optimizer's state_dict:\")\n",
        "for var_name in optimizer.state_dict():\n",
        "    print(var_name, \"\\t\", optimizer.state_dict()[var_name])"
      ],
      "metadata": {
        "colab": {
          "base_uri": "https://localhost:8080/"
        },
        "id": "RqfZHu9VLuLg",
        "outputId": "9a840fb1-479e-4a5e-c0a1-a67c0cd3f630"
      },
      "execution_count": null,
      "outputs": [
        {
          "output_type": "stream",
          "name": "stdout",
          "text": [
            "----------------------------------------------------------------\n",
            "        Layer (type)               Output Shape         Param #\n",
            "================================================================\n",
            "            Conv2d-1          [-1, 256, 48, 48]           2,560\n",
            "            Conv2d-2          [-1, 512, 48, 48]       1,180,160\n",
            "              ReLU-3          [-1, 512, 48, 48]               0\n",
            "       BatchNorm2d-4          [-1, 512, 48, 48]           1,024\n",
            "         MaxPool2d-5          [-1, 512, 24, 24]               0\n",
            "           Dropout-6          [-1, 512, 24, 24]               0\n",
            "            Conv2d-7          [-1, 384, 24, 24]       1,769,856\n",
            "              ReLU-8          [-1, 384, 24, 24]               0\n",
            "       BatchNorm2d-9          [-1, 384, 24, 24]             768\n",
            "        MaxPool2d-10          [-1, 384, 12, 12]               0\n",
            "          Dropout-11          [-1, 384, 12, 12]               0\n",
            "           Conv2d-12          [-1, 192, 12, 12]         663,744\n",
            "             ReLU-13          [-1, 192, 12, 12]               0\n",
            "      BatchNorm2d-14          [-1, 192, 12, 12]             384\n",
            "        MaxPool2d-15            [-1, 192, 6, 6]               0\n",
            "          Dropout-16            [-1, 192, 6, 6]               0\n",
            "           Conv2d-17            [-1, 384, 6, 6]         663,936\n",
            "             ReLU-18            [-1, 384, 6, 6]               0\n",
            "      BatchNorm2d-19            [-1, 384, 6, 6]             768\n",
            "        MaxPool2d-20            [-1, 384, 3, 3]               0\n",
            "          Dropout-21            [-1, 384, 3, 3]               0\n",
            "          Flatten-22                 [-1, 3456]               0\n",
            "           Linear-23                  [-1, 256]         884,992\n",
            "             ReLU-24                  [-1, 256]               0\n",
            "      BatchNorm1d-25                  [-1, 256]             512\n",
            "          Dropout-26                  [-1, 256]               0\n",
            "           Linear-27                    [-1, 7]           1,799\n",
            "================================================================\n",
            "Total params: 5,170,503\n",
            "Trainable params: 5,170,503\n",
            "Non-trainable params: 0\n",
            "----------------------------------------------------------------\n",
            "Input size (MB): 0.01\n",
            "Forward/backward pass size (MB): 43.05\n",
            "Params size (MB): 19.72\n",
            "Estimated Total Size (MB): 62.78\n",
            "----------------------------------------------------------------\n"
          ]
        }
      ]
    },
    {
      "cell_type": "code",
      "source": [
        "history = fit(num_epochs, lr, model, loader_train, loader_val, optimizer, verbose=True)"
      ],
      "metadata": {
        "colab": {
          "base_uri": "https://localhost:8080/"
        },
        "id": "rDZAX2rnrKN1",
        "outputId": "87f9ece0-9cf2-4a6f-c1fa-c57d3809c98e"
      },
      "execution_count": null,
      "outputs": [
        {
          "output_type": "stream",
          "name": "stdout",
          "text": [
            "Epoch [0], train_loss: 1.7729, val_loss: 1.5975, val_acc: 0.3912\n",
            "Epoch [1/20], train_loss: 1.7729, val_loss: 1.5975, val_acc: 0.3912\n",
            "Epoch [1], train_loss: 1.4668, val_loss: 1.4656, val_acc: 0.4777\n",
            "Epoch [2/20], train_loss: 1.4668, val_loss: 1.4656, val_acc: 0.4777\n",
            "Epoch [2], train_loss: 1.3112, val_loss: 1.1973, val_acc: 0.5388\n",
            "Epoch [3/20], train_loss: 1.3112, val_loss: 1.1973, val_acc: 0.5388\n",
            "Epoch [3], train_loss: 1.2092, val_loss: 1.1634, val_acc: 0.5633\n",
            "Epoch [4/20], train_loss: 1.2092, val_loss: 1.1634, val_acc: 0.5633\n",
            "Epoch [4], train_loss: 1.1624, val_loss: 1.1317, val_acc: 0.5682\n",
            "Epoch [5/20], train_loss: 1.1624, val_loss: 1.1317, val_acc: 0.5682\n",
            "Epoch [5], train_loss: 1.1144, val_loss: 1.1298, val_acc: 0.5822\n",
            "Epoch [6/20], train_loss: 1.1144, val_loss: 1.1298, val_acc: 0.5822\n",
            "Epoch [6], train_loss: 1.0737, val_loss: 1.0128, val_acc: 0.6120\n",
            "Epoch [7/20], train_loss: 1.0737, val_loss: 1.0128, val_acc: 0.6120\n",
            "Epoch [7], train_loss: 1.0414, val_loss: 1.0034, val_acc: 0.6140\n",
            "Epoch [8/20], train_loss: 1.0414, val_loss: 1.0034, val_acc: 0.6140\n",
            "Epoch [8], train_loss: 1.0199, val_loss: 1.0043, val_acc: 0.6139\n",
            "Epoch [9/20], train_loss: 1.0199, val_loss: 1.0043, val_acc: 0.6139\n",
            "Epoch [9], train_loss: 1.0102, val_loss: 1.0011, val_acc: 0.6271\n",
            "Epoch [10/20], train_loss: 1.0102, val_loss: 1.0011, val_acc: 0.6271\n",
            "Epoch [10], train_loss: 0.9776, val_loss: 1.0150, val_acc: 0.6245\n",
            "Epoch [11/20], train_loss: 0.9776, val_loss: 1.0150, val_acc: 0.6245\n",
            "Epoch [11], train_loss: 0.9631, val_loss: 1.0408, val_acc: 0.6129\n",
            "Epoch [12/20], train_loss: 0.9631, val_loss: 1.0408, val_acc: 0.6129\n",
            "Epoch [12], train_loss: 0.9602, val_loss: 0.9710, val_acc: 0.6454\n",
            "Epoch [13/20], train_loss: 0.9602, val_loss: 0.9710, val_acc: 0.6454\n",
            "Epoch [13], train_loss: 0.9327, val_loss: 0.9616, val_acc: 0.6438\n",
            "Epoch [14/20], train_loss: 0.9327, val_loss: 0.9616, val_acc: 0.6438\n",
            "Epoch [14], train_loss: 0.9300, val_loss: 1.0066, val_acc: 0.6315\n",
            "Epoch [15/20], train_loss: 0.9300, val_loss: 1.0066, val_acc: 0.6315\n",
            "Epoch [15], train_loss: 0.9129, val_loss: 1.2229, val_acc: 0.6467\n",
            "Epoch [16/20], train_loss: 0.9129, val_loss: 1.2229, val_acc: 0.6467\n",
            "Epoch [16], train_loss: 0.8835, val_loss: 0.9895, val_acc: 0.6609\n",
            "Epoch [17/20], train_loss: 0.8835, val_loss: 0.9895, val_acc: 0.6609\n",
            "Epoch [17], train_loss: 0.8873, val_loss: 0.9690, val_acc: 0.6620\n",
            "Epoch [18/20], train_loss: 0.8873, val_loss: 0.9690, val_acc: 0.6620\n",
            "Epoch [18], train_loss: 0.8622, val_loss: 1.0115, val_acc: 0.6535\n",
            "Epoch [19/20], train_loss: 0.8622, val_loss: 1.0115, val_acc: 0.6535\n",
            "Epoch [19], train_loss: 0.8509, val_loss: 1.0277, val_acc: 0.6591\n",
            "Epoch [20/20], train_loss: 0.8509, val_loss: 1.0277, val_acc: 0.6591\n"
          ]
        }
      ]
    },
    {
      "cell_type": "code",
      "source": [
        "def plot_accuracies(history):\n",
        "    accuracies = [x['val_acc'] for x in history]\n",
        "    plt.plot(accuracies, '-x')\n",
        "    plt.xlabel('epoch')\n",
        "    plt.ylabel('accuracy')\n",
        "    plt.title('Accuracy vs N. of epochs');\n",
        "\n",
        "plot_accuracies(history)"
      ],
      "metadata": {
        "colab": {
          "base_uri": "https://localhost:8080/",
          "height": 295
        },
        "id": "Y_BFCIrL2OWW",
        "outputId": "2faaf556-d79b-4f3f-87ad-2b46fecb8565"
      },
      "execution_count": null,
      "outputs": [
        {
          "output_type": "display_data",
          "data": {
            "text/plain": [
              "<Figure size 432x288 with 1 Axes>"
            ],
            "image/png": "[encoded data removed]"
          },
          "metadata": {
            "needs_background": "light"
          }
        }
      ]
    },
    {
      "cell_type": "code",
      "source": [
        "def plot_losses(history):\n",
        "    train_losses = [x.get('train_loss') for x in history]\n",
        "    val_losses = [x['val_loss'] for x in history]\n",
        "    plt.plot(train_losses, '-bx')\n",
        "    plt.plot(val_losses, '-rx')\n",
        "    plt.xlabel('epoch')\n",
        "    plt.ylabel('loss')\n",
        "    plt.legend(['Training', 'Validation'])\n",
        "    plt.title('Loss vs N. of epochs');\n",
        "\n",
        "plot_losses(history)"
      ],
      "metadata": {
        "colab": {
          "base_uri": "https://localhost:8080/",
          "height": 295
        },
        "id": "iSre4wxt2TFK",
        "outputId": "bc4d05be-0811-4adb-a624-9cb6b7fb5fae"
      },
      "execution_count": null,
      "outputs": [
        {
          "output_type": "display_data",
          "data": {
            "text/plain": [
              "<Figure size 432x288 with 1 Axes>"
            ],
            "image/png": "[encoded data removed]"
          },
          "metadata": {
            "needs_background": "light"
          }
        }
      ]
    },
    {
      "cell_type": "code",
      "source": [
        "evaluate(model, loader_test)"
      ],
      "metadata": {
        "colab": {
          "base_uri": "https://localhost:8080/"
        },
        "id": "3Qzpb80L2UuA",
        "outputId": "e984cf04-0d96-45e8-dd76-411c5e4d54aa"
      },
      "execution_count": null,
      "outputs": [
        {
          "output_type": "execute_result",
          "data": {
            "text/plain": [
              "{'val_loss': 1.0438700914382935, 'val_acc': 0.6392241716384888}"
            ]
          },
          "metadata": {},
          "execution_count": 29
        }
      ]
    },
    {
      "cell_type": "code",
      "source": [
        "def predict_image(img, model):\n",
        "    xb = img.unsqueeze(0).to(device)\n",
        "    yb = model(xb)\n",
        "    _, preds  = torch.max(yb, dim=1)\n",
        "    return preds[0].item()\n",
        "\n",
        "img, label = data_test[100] \n",
        "predict_image(img,model)\n",
        "label"
      ],
      "metadata": {
        "colab": {
          "base_uri": "https://localhost:8080/"
        },
        "id": "OCD5rhEU2Zu8",
        "outputId": "cf4d331d-cafc-4570-d944-81bcdfa7b86b"
      },
      "execution_count": null,
      "outputs": [
        {
          "output_type": "execute_result",
          "data": {
            "text/plain": [
              "3"
            ]
          },
          "metadata": {},
          "execution_count": 30
        }
      ]
    },
    {
      "cell_type": "code",
      "source": [
        "plt.imshow(img.squeeze(), cmap='gray')"
      ],
      "metadata": {
        "colab": {
          "base_uri": "https://localhost:8080/",
          "height": 285
        },
        "id": "gK4zBKpR2kv1",
        "outputId": "0251cca4-ca46-483f-c362-698cb9275203"
      },
      "execution_count": null,
      "outputs": [
        {
          "output_type": "execute_result",
          "data": {
            "text/plain": [
              "<matplotlib.image.AxesImage at 0x7f9bc63c0bb0>"
            ]
          },
          "metadata": {},
          "execution_count": 31
        },
        {
          "output_type": "display_data",
          "data": {
            "text/plain": [
              "<Figure size 432x288 with 1 Axes>"
            ],
            "image/png": "[encoded data removed]"
          },
          "metadata": {
            "needs_background": "light"
          }
        }
      ]
    },
    {
      "cell_type": "code",
      "source": [
        "#torch.save(model.state_dict(), './fer2013_pyorch.h5')\n",
        "torch.save(model.state_dict(), './fer2013_pytorch.pt')\n"
      ],
      "metadata": {
        "id": "ZLLbnlY-3J22"
      },
      "execution_count": null,
      "outputs": []
    }
  ]
}